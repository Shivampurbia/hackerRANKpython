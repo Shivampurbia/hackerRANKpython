{
 "cells": [
  {
   "cell_type": "markdown",
   "metadata": {},
   "source": [
    "# No. of pairs of shocs\n",
    "\n"
   ]
  },
  {
   "cell_type": "code",
   "execution_count": 59,
   "metadata": {},
   "outputs": [
    {
     "name": "stdout",
     "output_type": "stream",
     "text": [
      "4\n"
     ]
    }
   ],
   "source": [
    "def sockMerchant(n, ar):\n",
    "    \n",
    "    d = dict()\n",
    "    pair = 0\n",
    "    for i in ar:\n",
    "        d[str(i)] = d.get((str(i)),0)+1\n",
    "   \n",
    "    i=0\n",
    "    for i in d.values():\n",
    "        if i > 1:\n",
    "            pair =pair + (i//2)\n",
    "            \n",
    "    return pair\n",
    "\n",
    "\n",
    "n=10\n",
    "ar=[1,8,3,8,2,1,3,3,3,3]\n",
    "\n",
    "print(sockMerchant(n,ar))"
   ]
  },
  {
   "cell_type": "markdown",
   "metadata": {},
   "source": [
    "## COUNTING VALLEYS\n",
    "If we represent _ as sea level, a step up as /, and a step down as \\.    \n",
    " \n",
    "* A mountain is a sequence of consecutive steps above sea level, starting with a step up from sea level and ending with a step down to sea level.\n",
    "\n",
    "* A valley is a sequence of consecutive steps below sea level, starting with a step down from sea level and ending with a step up to sea level."
   ]
  },
  {
   "cell_type": "code",
   "execution_count": null,
   "metadata": {},
   "outputs": [],
   "source": [
    "def countingValleys(n, s):\n",
    "    i=0\n",
    "    buf =0\n",
    "    valley_count = 0 \n",
    "    while i<n-1:\n",
    "        if s[i] =='U':\n",
    "            buf = buf + 1\n",
    "            if buf ==0:\n",
    "                valley_count = valley_count + 1\n",
    "        elif s[i]=='D':\n",
    "            buf = buf - 1\n",
    "        i = i+1\n",
    "    return valley_count\n",
    "\n",
    "\n",
    "n = int(input())\n",
    "s = input()\n",
    "\n",
    "result = countingValleys(n, s)\n",
    "print(result)"
   ]
  },
  {
   "cell_type": "markdown",
   "metadata": {},
   "source": [
    "# JumpingOnClouds"
   ]
  },
  {
   "cell_type": "code",
   "execution_count": 52,
   "metadata": {},
   "outputs": [],
   "source": [
    "def jumpingOnClouds(c):\n",
    "    l = len(c)\n",
    "    jump =0\n",
    "    i=0\n",
    "    if l>2:\n",
    "        while i<(l-2):\n",
    "            if c[i] == 0 and c[i+1]==0 and c[i+2]==0:\n",
    "                jump = jump +1\n",
    "                i = i+2\n",
    "            elif c[i] == 0 and c[i+1] ==1 and c[i+2]==0:\n",
    "                jump = jump +1\n",
    "                i=i+2\n",
    "            else:\n",
    "                i=i+1\n",
    "                jump=jump+1\n",
    "    if i == (l-2):\n",
    "        jump = jump +1 \n",
    "    return jump\n",
    "\n",
    "\n",
    "l = [0,0,0,0]\n",
    "print(jumpingOnClouds(l))"
   ]
  },
  {
   "cell_type": "code",
   "execution_count": null,
   "metadata": {
    "scrolled": true
   },
   "outputs": [],
   "source": []
  },
  {
   "cell_type": "code",
   "execution_count": null,
   "metadata": {},
   "outputs": [],
   "source": [
    " #n//len(s)*s.count(\"a\") + s[:n%len(s)].count(\"a\")"
   ]
  },
  {
   "cell_type": "markdown",
   "metadata": {},
   "source": [
    "## HOURGLASSsum  array pattern"
   ]
  },
  {
   "cell_type": "code",
   "execution_count": 3,
   "metadata": {},
   "outputs": [
    {
     "name": "stdout",
     "output_type": "stream",
     "text": [
      "size of matrix : 5\n",
      "enter  1 row\n",
      "1\n",
      "2\n",
      "3\n",
      "4\n",
      "1\n",
      "enter  2 row\n",
      "1\n",
      "0\n",
      "1\n",
      "5\n",
      "2\n",
      "enter  3 row\n",
      "2\n",
      "4\n",
      "3\n",
      "1\n",
      "0\n",
      "enter  4 row\n",
      "5\n",
      "1\n",
      "2\n",
      "2\n",
      "1\n",
      "enter  5 row\n",
      "4\n",
      "1\n",
      "2\n",
      "3\n",
      "1\n",
      "\n",
      " 18\n"
     ]
    }
   ],
   "source": [
    "def mainthing(a,p,q):\n",
    "    ans =0\n",
    "    ans = a[p][q]+a[p][q+1]+a[p][q+2]+a[p+1][q+1]+a[p+2][q]+a[p+2][q+1]+a[p+2][q+2]\n",
    "    return ans\n",
    "\n",
    "# Complete the hourglassSum function below.\n",
    "def hourglassSum(arr,dim):\n",
    "    l= dim-2\n",
    "    listsum = []\n",
    "    for i in range(0,l):\n",
    "        for j in range(0,l):\n",
    "            listsum.append(mainthing(arr,i,j))\n",
    "    return(max(listsum))\n",
    "\n",
    "dim = int(input('size of matrix : '))\n",
    "matrix = [[0 for j in range(dim)] for i in range(dim)]\n",
    "\n",
    "for i in range(dim):\n",
    "    print('enter ',i+1,'row')\n",
    "    for j in range(dim):\n",
    "        matrix[i][j] = int(input())\n",
    "\n",
    "print('\\n',hourglassSum(matrix,dim))"
   ]
  },
  {
   "cell_type": "markdown",
   "metadata": {},
   "source": [
    "## LEFT ARRAY ROTATION\n"
   ]
  },
  {
   "cell_type": "code",
   "execution_count": 69,
   "metadata": {},
   "outputs": [
    {
     "name": "stdout",
     "output_type": "stream",
     "text": [
      "enter the no of rotation : 101\n",
      "[2, 3, 4, 5, 1]\n"
     ]
    }
   ],
   "source": [
    "l = [1,2,3,4,5]\n",
    "\n",
    "def rotation(l,nofrot):\n",
    "    lenofarr = len(l)\n",
    "    newl = []\n",
    "    newNO = 0\n",
    "    \n",
    "    if nofrot ==0:\n",
    "        return l\n",
    "    \n",
    "    elif nofrot > lenofarr:\n",
    "        newNO = (nofrot % lenofarr)\n",
    "        if newNO ==0:\n",
    "            return l\n",
    "        newl.extend(l[newNO:lenofarr])\n",
    "        newl.extend(l[:newNO])\n",
    "    else:\n",
    "        newNO = nofrot\n",
    "        newl.extend(l[newNO:lenofarr])\n",
    "        newl.extend(l[:newNO])\n",
    "    \n",
    "    return newl\n",
    "    \n",
    "d =int(input('enter the no of rotation : '))    \n",
    "print(rotation(l,d))    \n",
    "    "
   ]
  },
  {
   "cell_type": "markdown",
   "metadata": {},
   "source": [
    "# NEW YEAR CHAOS"
   ]
  },
  {
   "cell_type": "code",
   "execution_count": 13,
   "metadata": {},
   "outputs": [],
   "source": [
    "#wrong one(try)\n",
    "\n",
    "def minimumBribes(q):\n",
    "    l = len(q)\n",
    "    i=0\n",
    "    r = 'Too chaotic'\n",
    "    sum = 0\n",
    "    while i<(l-1):\n",
    "        if q[i] < q[i+1]:\n",
    "            i = i+1\n",
    "        elif (q[i] - q[i+1]) > 2:\n",
    "            return r\n",
    "        elif q[i] - q[i+1] ==1:\n",
    "            sum = sum + 1\n",
    "            i = i+1\n",
    "        elif q[i] - q[i+1] ==2:\n",
    "            sum = sum +2    \n",
    "            i = i+1\n",
    "    return sum        \n"
   ]
  },
  {
   "cell_type": "code",
   "execution_count": 4,
   "metadata": {},
   "outputs": [
    {
     "name": "stdout",
     "output_type": "stream",
     "text": [
      "6\n"
     ]
    }
   ],
   "source": [
    "a = [1,2,5,3,7,8,6,4]\n",
    "print(minimumBribes(a))"
   ]
  },
  {
   "cell_type": "code",
   "execution_count": 5,
   "metadata": {},
   "outputs": [],
   "source": [
    "#wrong one\n",
    "\n",
    "def minimumbribes(q):\n",
    "    l = len(q)\n",
    "    i=0\n",
    "    j=0\n",
    "    r = 'Too chaotic'\n",
    "    sum = 0\n",
    "    while i<(l-1):\n",
    "        if (q[i] - q[i+1]) > 2:\n",
    "            return r\n",
    "        i = i+1\n",
    "    i =0    \n",
    "    while i<(l-1):\n",
    "        j=i\n",
    "        while j<l-1:\n",
    "            if q[j] > q[j+1]:\n",
    "                q[j],q[j+1] = q[j+1],q[j]\n",
    "                sum = sum +1\n",
    "            j = j+1     \n",
    "        i = i+1    \n",
    "    return sum\n",
    "\n",
    "a = [1,2,7,3,5,6,4]\n",
    "print(minimumbribes(a))"
   ]
  },
  {
   "cell_type": "code",
   "execution_count": null,
   "metadata": {},
   "outputs": [],
   "source": [
    "#right one\n",
    "\n",
    "#!/bin/python3\n",
    "\n",
    "import math\n",
    "import os\n",
    "import random\n",
    "import re\n",
    "import sys\n",
    "\n",
    "# Complete the minimumBribes function below.\n",
    "def minimumBribes(q):\n",
    "    l = len(q)\n",
    "    i=0\n",
    "    r = 'Too chaotic'\n",
    "    sum = 0\n",
    "    i = l-1    \n",
    "    while i>=0:\n",
    "        if q[i] != i+1:\n",
    "            if q[i-1] == i+1:\n",
    "                sum = sum + 1\n",
    "                q[i],q[i-1] = q[i-1],q[i]\n",
    "                \n",
    "            elif q[i-2] == i+1:\n",
    "                sum = sum +2\n",
    "                q[i-1],q[i-2] = q[i-2],q[i-1]\n",
    "                q[i],q[i-1] = q[i-1] ,q[i]    \n",
    "            else:\n",
    "                return r        \n",
    "        i = i-1        \n",
    "    return sum        \n",
    "\n",
    "\n",
    "if __name__ == '__main__':\n",
    "    t = int(input())\n",
    "\n",
    "    for t_itr in range(t):\n",
    "        n = int(input())\n",
    "\n",
    "        q = list(map(int, input().rstrip().split()))\n",
    "\n",
    "        print(minimumBribes(q))\n"
   ]
  },
  {
   "cell_type": "markdown",
   "metadata": {},
   "source": [
    "## ARRAY MANIPULATION O(N*M)"
   ]
  },
  {
   "cell_type": "code",
   "execution_count": null,
   "metadata": {},
   "outputs": [],
   "source": [
    "#!/bin/python3\n",
    "\n",
    "import math\n",
    "import os\n",
    "import random\n",
    "import re\n",
    "import sys\n",
    "\n",
    "# Complete the arrayManipulation function below.\n",
    "def arrayManipulation(n, queries):\n",
    "    lenofARR = n\n",
    "    lenofQ = len(queries)\n",
    "    \n",
    "    listt =[]\n",
    "    buf =0\n",
    "    while(buf<n):\n",
    "        listt.append(0)\n",
    "        buf = buf +1\n",
    "\n",
    "    \n",
    "    i=0\n",
    "    if lenofARR >= 3 and lenofARR <= 10**7:\n",
    "        if lenofQ >= 1 and  lenofQ <= 2*(10**5):\n",
    "            while i<lenofQ:\n",
    "                m = queries[i][0] - 1\n",
    "                m1 = queries[i][1] - 1\n",
    "                item = queries[i][2]\n",
    "                if item <= 10**9 and item >=0:\n",
    "                    if ( 1 <= (m+1) and m1+1 <= n ) and m+1<=m1+1:\n",
    "                        while m<=m1:\n",
    "                            listt[m] = listt[m] + item\n",
    "                            m = m+1\n",
    "                i=i+1    \n",
    "    return max(listt)\n",
    "\n",
    "\n",
    "\n",
    "\n",
    "if __name__ == '__main__':\n",
    "    fptr = open(os.environ['OUTPUT_PATH'], 'w')\n",
    "\n",
    "    nm = input().split()\n",
    "\n",
    "    n = int(nm[0])\n",
    "\n",
    "    m = int(nm[1])\n",
    "\n",
    "    queries = []\n",
    "\n",
    "    for _ in range(m):\n",
    "        queries.append(list(map(int, input().rstrip().split())))\n",
    "\n",
    "    result = arrayManipulation(n, queries)\n",
    "\n",
    "    fptr.write(str(result) + '\\n')\n",
    "    print(result)\n",
    "    fptr.close()\n"
   ]
  },
  {
   "cell_type": "code",
   "execution_count": null,
   "metadata": {},
   "outputs": [],
   "source": []
  },
  {
   "cell_type": "code",
   "execution_count": null,
   "metadata": {},
   "outputs": [],
   "source": []
  },
  {
   "cell_type": "code",
   "execution_count": null,
   "metadata": {},
   "outputs": [],
   "source": []
  },
  {
   "cell_type": "code",
   "execution_count": null,
   "metadata": {},
   "outputs": [],
   "source": []
  },
  {
   "cell_type": "code",
   "execution_count": null,
   "metadata": {},
   "outputs": [],
   "source": []
  }
 ],
 "metadata": {
  "kernelspec": {
   "display_name": "Python 3",
   "language": "python",
   "name": "python3"
  },
  "language_info": {
   "codemirror_mode": {
    "name": "ipython",
    "version": 3
   },
   "file_extension": ".py",
   "mimetype": "text/x-python",
   "name": "python",
   "nbconvert_exporter": "python",
   "pygments_lexer": "ipython3",
   "version": "3.6.6"
  }
 },
 "nbformat": 4,
 "nbformat_minor": 2
}
