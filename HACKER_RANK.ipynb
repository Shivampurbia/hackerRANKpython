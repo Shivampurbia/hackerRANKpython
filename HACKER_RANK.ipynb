{
 "cells": [
  {
   "cell_type": "markdown",
   "metadata": {},
   "source": [
    "# No. of pairs of shocs\n",
    "\n"
   ]
  },
  {
   "cell_type": "code",
   "execution_count": 59,
   "metadata": {},
   "outputs": [
    {
     "name": "stdout",
     "output_type": "stream",
     "text": [
      "4\n"
     ]
    }
   ],
   "source": [
    "def sockMerchant(n, ar):\n",
    "    \n",
    "    d = dict()\n",
    "    pair = 0\n",
    "    for i in ar:\n",
    "        d[str(i)] = d.get((str(i)),0)+1\n",
    "   \n",
    "    i=0\n",
    "    for i in d.values():\n",
    "        if i > 1:\n",
    "            pair =pair + (i//2)\n",
    "            \n",
    "    return pair\n",
    "\n",
    "\n",
    "n=10\n",
    "ar=[1,8,3,8,2,1,3,3,3,3]\n",
    "\n",
    "print(sockMerchant(n,ar))"
   ]
  },
  {
   "cell_type": "markdown",
   "metadata": {},
   "source": [
    "## COUNTING VALLEYS\n",
    "If we represent _ as sea level, a step up as /, and a step down as \\.    \n",
    " \n",
    "* A mountain is a sequence of consecutive steps above sea level, starting with a step up from sea level and ending with a step down to sea level.\n",
    "\n",
    "* A valley is a sequence of consecutive steps below sea level, starting with a step down from sea level and ending with a step up to sea level."
   ]
  },
  {
   "cell_type": "code",
   "execution_count": null,
   "metadata": {},
   "outputs": [],
   "source": [
    "def countingValleys(n, s):\n",
    "    i=0\n",
    "    buf =0\n",
    "    valley_count = 0 \n",
    "    while i<n-1:\n",
    "        if s[i] =='U':\n",
    "            buf = buf + 1\n",
    "            if buf ==0:\n",
    "                valley_count = valley_count + 1\n",
    "        elif s[i]=='D':\n",
    "            buf = buf - 1\n",
    "        i = i+1\n",
    "    return valley_count\n",
    "\n",
    "\n",
    "n = int(input())\n",
    "s = input()\n",
    "\n",
    "result = countingValleys(n, s)\n",
    "print(result)"
   ]
  },
  {
   "cell_type": "markdown",
   "metadata": {},
   "source": [
    "# JumpingOnClouds"
   ]
  },
  {
   "cell_type": "code",
   "execution_count": 52,
   "metadata": {},
   "outputs": [],
   "source": [
    "def jumpingOnClouds(c):\n",
    "    l = len(c)\n",
    "    jump =0\n",
    "    i=0\n",
    "    if l>2:\n",
    "        while i<(l-2):\n",
    "            if c[i] == 0 and c[i+1]==0 and c[i+2]==0:\n",
    "                jump = jump +1\n",
    "                i = i+2\n",
    "            elif c[i] == 0 and c[i+1] ==1 and c[i+2]==0:\n",
    "                jump = jump +1\n",
    "                i=i+2\n",
    "            else:\n",
    "                i=i+1\n",
    "                jump=jump+1\n",
    "    if i == (l-2):\n",
    "        jump = jump +1 \n",
    "    return jump\n",
    "\n",
    "\n",
    "l = [0,0,0,0]\n",
    "print(jumpingOnClouds(l))"
   ]
  },
  {
   "cell_type": "code",
   "execution_count": null,
   "metadata": {
    "scrolled": true
   },
   "outputs": [],
   "source": []
  },
  {
   "cell_type": "code",
   "execution_count": null,
   "metadata": {},
   "outputs": [],
   "source": [
    " #n//len(s)*s.count(\"a\") + s[:n%len(s)].count(\"a\")"
   ]
  },
  {
   "cell_type": "markdown",
   "metadata": {},
   "source": [
    "## HOURGLASSsum  array pattern"
   ]
  },
  {
   "cell_type": "code",
   "execution_count": 3,
   "metadata": {},
   "outputs": [
    {
     "name": "stdout",
     "output_type": "stream",
     "text": [
      "size of matrix : 5\n",
      "enter  1 row\n",
      "1\n",
      "2\n",
      "3\n",
      "4\n",
      "1\n",
      "enter  2 row\n",
      "1\n",
      "0\n",
      "1\n",
      "5\n",
      "2\n",
      "enter  3 row\n",
      "2\n",
      "4\n",
      "3\n",
      "1\n",
      "0\n",
      "enter  4 row\n",
      "5\n",
      "1\n",
      "2\n",
      "2\n",
      "1\n",
      "enter  5 row\n",
      "4\n",
      "1\n",
      "2\n",
      "3\n",
      "1\n",
      "\n",
      " 18\n"
     ]
    }
   ],
   "source": [
    "def mainthing(a,p,q):\n",
    "    ans =0\n",
    "    ans = a[p][q]+a[p][q+1]+a[p][q+2]+a[p+1][q+1]+a[p+2][q]+a[p+2][q+1]+a[p+2][q+2]\n",
    "    return ans\n",
    "\n",
    "# Complete the hourglassSum function below.\n",
    "def hourglassSum(arr,dim):\n",
    "    l= dim-2\n",
    "    listsum = []\n",
    "    for i in range(0,l):\n",
    "        for j in range(0,l):\n",
    "            listsum.append(mainthing(arr,i,j))\n",
    "    return(max(listsum))\n",
    "\n",
    "dim = int(input('size of matrix : '))\n",
    "matrix = [[0 for j in range(dim)] for i in range(dim)]\n",
    "\n",
    "for i in range(dim):\n",
    "    print('enter ',i+1,'row')\n",
    "    for j in range(dim):\n",
    "        matrix[i][j] = int(input())\n",
    "\n",
    "print('\\n',hourglassSum(matrix,dim))"
   ]
  },
  {
   "cell_type": "markdown",
   "metadata": {},
   "source": [
    "## LEFT ARRAY ROTATION\n"
   ]
  },
  {
   "cell_type": "code",
   "execution_count": 69,
   "metadata": {},
   "outputs": [
    {
     "name": "stdout",
     "output_type": "stream",
     "text": [
      "enter the no of rotation : 101\n",
      "[2, 3, 4, 5, 1]\n"
     ]
    }
   ],
   "source": [
    "l = [1,2,3,4,5]\n",
    "\n",
    "def rotation(l,nofrot):\n",
    "    lenofarr = len(l)\n",
    "    newl = []\n",
    "    newNO = 0\n",
    "    \n",
    "    if nofrot ==0:\n",
    "        return l\n",
    "    \n",
    "    elif nofrot > lenofarr:\n",
    "        newNO = (nofrot % lenofarr)\n",
    "        if newNO ==0:\n",
    "            return l\n",
    "        newl.extend(l[newNO:lenofarr])\n",
    "        newl.extend(l[:newNO])\n",
    "    else:\n",
    "        newNO = nofrot\n",
    "        newl.extend(l[newNO:lenofarr])\n",
    "        newl.extend(l[:newNO])\n",
    "    \n",
    "    return newl\n",
    "    \n",
    "d =int(input('enter the no of rotation : '))    \n",
    "print(rotation(l,d))    \n",
    "    "
   ]
  },
  {
   "cell_type": "markdown",
   "metadata": {},
   "source": [
    "# NEW YEAR CHAOS"
   ]
  },
  {
   "cell_type": "code",
   "execution_count": 13,
   "metadata": {},
   "outputs": [],
   "source": [
    "#wrong one(try)\n",
    "\n",
    "def minimumBribes(q):\n",
    "    l = len(q)\n",
    "    i=0\n",
    "    r = 'Too chaotic'\n",
    "    sum = 0\n",
    "    while i<(l-1):\n",
    "        if q[i] < q[i+1]:\n",
    "            i = i+1\n",
    "        elif (q[i] - q[i+1]) > 2:\n",
    "            return r\n",
    "        elif q[i] - q[i+1] ==1:\n",
    "            sum = sum + 1\n",
    "            i = i+1\n",
    "        elif q[i] - q[i+1] ==2:\n",
    "            sum = sum +2    \n",
    "            i = i+1\n",
    "    return sum        \n"
   ]
  },
  {
   "cell_type": "code",
   "execution_count": 4,
   "metadata": {},
   "outputs": [
    {
     "name": "stdout",
     "output_type": "stream",
     "text": [
      "6\n"
     ]
    }
   ],
   "source": [
    "a = [1,2,5,3,7,8,6,4]\n",
    "print(minimumBribes(a))"
   ]
  },
  {
   "cell_type": "code",
   "execution_count": 5,
   "metadata": {},
   "outputs": [],
   "source": [
    "#wrong one\n",
    "\n",
    "def minimumbribes(q):\n",
    "    l = len(q)\n",
    "    i=0\n",
    "    j=0\n",
    "    r = 'Too chaotic'\n",
    "    sum = 0\n",
    "    while i<(l-1):\n",
    "        if (q[i] - q[i+1]) > 2:\n",
    "            return r\n",
    "        i = i+1\n",
    "    i =0    \n",
    "    while i<(l-1):\n",
    "        j=i\n",
    "        while j<l-1:\n",
    "            if q[j] > q[j+1]:\n",
    "                q[j],q[j+1] = q[j+1],q[j]\n",
    "                sum = sum +1\n",
    "            j = j+1     \n",
    "        i = i+1    \n",
    "    return sum\n",
    "\n",
    "a = [1,2,7,3,5,6,4]\n",
    "print(minimumbribes(a))"
   ]
  },
  {
   "cell_type": "code",
   "execution_count": null,
   "metadata": {},
   "outputs": [],
   "source": [
    "#right one\n",
    "\n",
    "#!/bin/python3\n",
    "\n",
    "import math\n",
    "import os\n",
    "import random\n",
    "import re\n",
    "import sys\n",
    "\n",
    "# Complete the minimumBribes function below.\n",
    "def minimumBribes(q):\n",
    "    l = len(q)\n",
    "    i=0\n",
    "    r = 'Too chaotic'\n",
    "    sum = 0\n",
    "    i = l-1    \n",
    "    while i>=0:\n",
    "        if q[i] != i+1:\n",
    "            if q[i-1] == i+1:\n",
    "                sum = sum + 1\n",
    "                q[i],q[i-1] = q[i-1],q[i]\n",
    "                \n",
    "            elif q[i-2] == i+1:\n",
    "                sum = sum +2\n",
    "                q[i-1],q[i-2] = q[i-2],q[i-1]\n",
    "                q[i],q[i-1] = q[i-1] ,q[i]    \n",
    "            else:\n",
    "                return r        \n",
    "        i = i-1        \n",
    "    return sum        \n",
    "\n",
    "\n",
    "if __name__ == '__main__':\n",
    "    t = int(input())\n",
    "\n",
    "    for t_itr in range(t):\n",
    "        n = int(input())\n",
    "\n",
    "        q = list(map(int, input().rstrip().split()))\n",
    "\n",
    "        print(minimumBribes(q))\n"
   ]
  },
  {
   "cell_type": "markdown",
   "metadata": {},
   "source": [
    "## ARRAY MANIPULATION O(N*M)"
   ]
  },
  {
   "cell_type": "code",
   "execution_count": null,
   "metadata": {},
   "outputs": [],
   "source": [
    "#!/bin/python3\n",
    "\n",
    "import math\n",
    "import os\n",
    "import random\n",
    "import re\n",
    "import sys\n",
    "\n",
    "# Complete the arrayManipulation function below.\n",
    "def arrayManipulation(n, queries):\n",
    "    lenofARR = n\n",
    "    lenofQ = len(queries)\n",
    "    \n",
    "    listt =[]\n",
    "    buf =0\n",
    "    while(buf<n):\n",
    "        listt.append(0)\n",
    "        buf = buf +1\n",
    "\n",
    "    \n",
    "    i=0\n",
    "    if lenofARR >= 3 and lenofARR <= 10**7:\n",
    "        if lenofQ >= 1 and  lenofQ <= 2*(10**5):\n",
    "            while i<lenofQ:\n",
    "                m = queries[i][0] - 1\n",
    "                m1 = queries[i][1] - 1\n",
    "                item = queries[i][2]\n",
    "                if item <= 10**9 and item >=0:\n",
    "                    if ( 1 <= (m+1) and m1+1 <= n ) and m+1<=m1+1:\n",
    "                        while m<=m1:\n",
    "                            listt[m] = listt[m] + item\n",
    "                            m = m+1\n",
    "                i=i+1    \n",
    "    return max(listt)\n",
    "\n",
    "\n",
    "\n",
    "\n",
    "if __name__ == '__main__':\n",
    "    fptr = open(os.environ['OUTPUT_PATH'], 'w')\n",
    "\n",
    "    nm = input().split()\n",
    "\n",
    "    n = int(nm[0])\n",
    "\n",
    "    m = int(nm[1])\n",
    "\n",
    "    queries = []\n",
    "\n",
    "    for _ in range(m):\n",
    "        queries.append(list(map(int, input().rstrip().split())))\n",
    "\n",
    "    result = arrayManipulation(n, queries)\n",
    "\n",
    "    fptr.write(str(result) + '\\n')\n",
    "    print(result)\n",
    "    fptr.close()\n"
   ]
  },
  {
   "cell_type": "markdown",
   "metadata": {},
   "source": [
    "## O(m+n) "
   ]
  },
  {
   "cell_type": "code",
   "execution_count": null,
   "metadata": {},
   "outputs": [],
   "source": [
    "#!/bin/python3\n",
    "\n",
    "import math\n",
    "import os\n",
    "import random\n",
    "import re\n",
    "import sys\n",
    "\n",
    "# Complete the arrayManipulation function below.\n",
    "def arrayManipulation(n, queries):\n",
    "    lenofARR = n\n",
    "    lenofQ = len(queries)\n",
    "    \n",
    "    listt =[]\n",
    "    buf =0\n",
    "    while(buf<n+2):\n",
    "        listt.append(0)\n",
    "        buf = buf +1\n",
    "    i=0\n",
    "    if lenofARR >= 3 and lenofARR <= 10**7:\n",
    "        if lenofQ >= 1 and  lenofQ <= 2*(10**5):\n",
    "            while i<lenofQ:\n",
    "                m = queries[i][0]-1\n",
    "                m1 = queries[i][1]-1\n",
    "                item = queries[i][2]\n",
    "                if m<=m1:\n",
    "                    listt[m] += item\n",
    "                    if(m1<len(listt)):\n",
    "                        listt[m1+1] -= item \n",
    "\n",
    "                i=i+1    \n",
    "        \n",
    "    k=1\n",
    "    buf1=0\n",
    "    maxx = 0\n",
    "    while k<len(listt):\n",
    "        buf1 = buf1 + listt[k-1]   \n",
    "        if maxx < buf1:\n",
    "            maxx = buf1\n",
    "        k=k+1    \n",
    "    return maxx\n",
    "\n",
    "\n",
    "\n",
    "\n",
    "if __name__ == '__main__':\n",
    "    fptr = open(os.environ['OUTPUT_PATH'], 'w')\n",
    "\n",
    "    nm = input().split()\n",
    "\n",
    "    n = int(nm[0])\n",
    "\n",
    "    m = int(nm[1])\n",
    "\n",
    "    queries = []\n",
    "\n",
    "    for _ in range(m):\n",
    "        queries.append(list(map(int, input().rstrip().split())))\n",
    "\n",
    "    result = arrayManipulation(n, queries)\n",
    "\n",
    "    fptr.write(str(result) + '\\n')\n",
    "\n",
    "    fptr.close()\n"
   ]
  },
  {
   "cell_type": "markdown",
   "metadata": {},
   "source": [
    "## minmun number of swaps"
   ]
  },
  {
   "cell_type": "code",
   "execution_count": 1,
   "metadata": {},
   "outputs": [],
   "source": [
    "#bruteforce and this is wrong one\n",
    "\n",
    "def minimumSwaps(arr):\n",
    "    l = len(arr)\n",
    "    i=0\n",
    "    j=0\n",
    "    count =0\n",
    "    while i<l-1:\n",
    "        j= i+1\n",
    "        while j<l:\n",
    "            if arr[i]>arr[j]:\n",
    "                arr[i],arr[j] = arr[j],arr[i]\n",
    "                count += 1\n",
    "            j=j+1\n",
    "        i=i+1        \n",
    "    return count"
   ]
  },
  {
   "cell_type": "code",
   "execution_count": 2,
   "metadata": {},
   "outputs": [
    {
     "data": {
      "text/plain": [
       "10"
      ]
     },
     "execution_count": 2,
     "metadata": {},
     "output_type": "execute_result"
    }
   ],
   "source": [
    "z  = [5,4,3,2,1]\n",
    "minimumSwaps(z)"
   ]
  },
  {
   "cell_type": "code",
   "execution_count": null,
   "metadata": {},
   "outputs": [],
   "source": [
    "#O(n) right one\n",
    "\n",
    "#!/bin/python3\n",
    "\n",
    "import math\n",
    "import os\n",
    "import random\n",
    "import re\n",
    "import sys\n",
    "\n",
    "# Complete the minimumSwaps function below.\n",
    "def minimumSwaps(arr):\n",
    "    l = len(arr)\n",
    "    i=0\n",
    "    j=0\n",
    "    count =0\n",
    "    if l>=1 and l <= 10**5:\n",
    "        while i<l-1:\n",
    "            if i+1 != arr[i]:\n",
    "                count = count +1\n",
    "                temp = arr[i] -1\n",
    "                buf = arr[temp]\n",
    "                arr[temp] = arr[i]\n",
    "                arr[i] = buf\n",
    "                i =i-1\n",
    "            i=i+1    \n",
    "    return count\n",
    "\n",
    "\n",
    "if __name__ == '__main__':\n",
    "    fptr = open(os.environ['OUTPUT_PATH'], 'w')\n",
    "\n",
    "    n = int(input())\n",
    "\n",
    "    arr = list(map(int, input().rstrip().split()))\n",
    "\n",
    "    res = minimumSwaps(arr)\n",
    "\n",
    "    fptr.write(str(res) + '\\n')\n",
    "\n",
    "    fptr.close()\n",
    "\n",
    "\n",
    "\n",
    "\n"
   ]
  },
  {
   "cell_type": "markdown",
   "metadata": {},
   "source": [
    "# RANSOM NOTE(hashtable)"
   ]
  },
  {
   "cell_type": "code",
   "execution_count": null,
   "metadata": {},
   "outputs": [],
   "source": [
    "#!/bin/python3\n",
    "import math\n",
    "import os\n",
    "import random\n",
    "import re\n",
    "import sys\n",
    "\n",
    "# Complete the checkMagazine function below.\n",
    "def checkMagazine(magazine, note):\n",
    "    freq = {}\n",
    "    freq1 = {}\n",
    "    for word in magazine:\n",
    "        freq[word] = freq.get(word,0)+1\n",
    "\n",
    "    for word in note:\n",
    "        freq1[word] = freq1.get(word,0)+1\n",
    "\n",
    "    count =0\n",
    "    l_imp = len(note)\n",
    "\n",
    "    for j in freq1:\n",
    "        if len(j)<=5:\n",
    "            if j in freq:\n",
    "                if freq[j]>=freq1[j]:\n",
    "                    count = count + 1\n",
    "\n",
    "    if l_imp == count:\n",
    "        return 'Yes'\n",
    "    else:\n",
    "        return 'No'\n",
    "        \n",
    "\n",
    "\n",
    "\n",
    "if __name__ == '__main__':\n",
    "    mn = input().split()\n",
    "\n",
    "    m = int(mn[0])\n",
    "\n",
    "    n = int(mn[1])\n",
    "\n",
    "    magazine = input().rstrip().split()\n",
    "\n",
    "    note = input().rstrip().split()\n",
    "    if 1 <= m <=30000 and 1 <= n <=30000:\n",
    "            result=checkMagazine(magazine, note)\n",
    "    else:\n",
    "        print('No')    \n",
    "\n",
    "\n",
    "    #result = checkMagazine(magazine, note)\n",
    "    print(result)\n"
   ]
  },
  {
   "cell_type": "code",
   "execution_count": 1,
   "metadata": {},
   "outputs": [],
   "source": [
    "#short solution\n",
    "\n",
    "def checkMagazine(magazine, note):\n",
    "    d={}\n",
    "    for i in magazine:\n",
    "        if d.get(i):\n",
    "            d[i]+=1\n",
    "        else:\n",
    "            d[i]=1\n",
    "    for i in note:\n",
    "        if d.get(i):\n",
    "            d[i]-=1\n",
    "        else:\n",
    "            return 'No'\n",
    "    return 'Yes'"
   ]
  },
  {
   "cell_type": "markdown",
   "metadata": {},
   "source": [
    "## if a string is a subset of another string"
   ]
  },
  {
   "cell_type": "code",
   "execution_count": 19,
   "metadata": {},
   "outputs": [],
   "source": [
    "#!/bin/python3\n",
    "\n",
    "import math\n",
    "import os\n",
    "import random\n",
    "import re\n",
    "import sys\n",
    "\n",
    "# Complete the twoStrings function below.\n",
    "def twoStrings(s1, s2):\n",
    "    d = {}\n",
    "    i=0\n",
    "    while i<len(s1):\n",
    "        d[s1[i]] = d.get(s1[i],0)+1\n",
    "        i=i+1\n",
    "    i=0\n",
    "    flag = 0\n",
    "    while i<len(s2):    \n",
    "        if s2[i] in d:\n",
    "            flag = 1\n",
    "        else:\n",
    "            pass\n",
    "        i=i+1\n",
    "    if flag == 1:\n",
    "        return \"YES\"\n",
    "    else:\n",
    "        return \"NO\"    \n",
    "\n",
    "            \n",
    "\n",
    "\n",
    "\n",
    "\n",
    "if __name__ == '__main__':\n",
    "    fptr = open(os.environ['OUTPUT_PATH'], 'w')\n",
    "\n",
    "    q = int(input())\n",
    "\n",
    "    for q_itr in range(q):\n",
    "        s1 = input()\n",
    "\n",
    "        s2 = input()\n",
    "\n",
    "        result = twoStrings(s1, s2)\n",
    "\n",
    "        fptr.write(result + '\\n')\n",
    "\n",
    "    fptr.close()\n"
   ]
  },
  {
   "cell_type": "markdown",
   "metadata": {},
   "source": [
    "## ANAGRAM1"
   ]
  },
  {
   "cell_type": "code",
   "execution_count": null,
   "metadata": {},
   "outputs": [],
   "source": [
    "#!/bin/python3\n",
    "\n",
    "import math\n",
    "import os\n",
    "import random\n",
    "import re\n",
    "import sys\n",
    "\n",
    "# Complete the anagram function below.\n",
    "def anagram(s):\n",
    "    if len(s)%2 != 0:\n",
    "        return -1\n",
    "    l = int(len(s)/2)\n",
    "    s1 = s[:l]\n",
    "    s2 = s[l:]\n",
    "    d={}\n",
    "    d1={}\n",
    "\n",
    "    i=0\n",
    "    while i<l:\n",
    "        d[s1[i]] = d.get(s1[i],0)+1\n",
    "        i=i+1\n",
    "    \n",
    "    i=0\n",
    "    while i<l:\n",
    "        d1[s2[i]] = d1.get(s2[i],0)+1\n",
    "        i=i+1    \n",
    "    \n",
    "    count =0\n",
    "\n",
    "    for j in d:\n",
    "        if j in d1:\n",
    "            if d[j]>d1[j]:\n",
    "                count = count + (d[j]-d1[j])          \n",
    "        else:\n",
    "            count = count + d[j]\n",
    "\n",
    "    return count\n",
    "\n",
    "if __name__ == '__main__':\n",
    "    fptr = open(os.environ['OUTPUT_PATH'], 'w')\n",
    "\n",
    "    q = int(input())\n",
    "\n",
    "    for q_itr in range(q):\n",
    "        s = input()\n",
    "\n",
    "        result = anagram(s)\n",
    "\n",
    "        fptr.write(str(result) + '\\n')\n",
    "\n",
    "    fptr.close()\n"
   ]
  },
  {
   "cell_type": "markdown",
   "metadata": {},
   "source": [
    "## ANAGRAM 2 make"
   ]
  },
  {
   "cell_type": "code",
   "execution_count": 11,
   "metadata": {},
   "outputs": [],
   "source": [
    "#found via discussion forum, not mine\n",
    "\n",
    "def mss(s1, s2):\n",
    "    s3=list(s2)\n",
    "    for i in s1:\n",
    "        if i in s3:\n",
    "            s3.remove(i)\n",
    "    no_common=len(s2)-len(s3)\n",
    "    return len(s1)+len(s2)-2*no_common"
   ]
  },
  {
   "cell_type": "code",
   "execution_count": null,
   "metadata": {},
   "outputs": [],
   "source": [
    "#mine one\n",
    "\n",
    "import math\n",
    "import os\n",
    "import random\n",
    "import re\n",
    "import sys\n",
    "\n",
    "# Complete the makingAnagrams function below.\n",
    "def makingAnagrams(s1, s2):\n",
    "    d={}\n",
    "    d1={}\n",
    "    l1 = len(s1)\n",
    "    l2 = len(s2)\n",
    "\n",
    "    i=0\n",
    "    while i<l1:\n",
    "        d[s1[i]] = d.get(s1[i],0)+1\n",
    "        i=i+1\n",
    "    i=0\n",
    "    while i<l2:\n",
    "        d1[s2[i]] = d1.get(s2[i],0)+1\n",
    "        i=i+1\n",
    "        \n",
    "    count =0\n",
    "    for j in d:\n",
    "        if j in d1:\n",
    "            if d[j]>d1[j]:\n",
    "                count = count + (d[j]-d1[j])         \n",
    "        else:\n",
    "            count = count + d[j]\n",
    "       \n",
    "    count1 =0\n",
    "    for j in d1:\n",
    "        if j in d:\n",
    "            if d1[j]>d[j]:\n",
    "                count1 = count1 + (d1[j]-d[j])         \n",
    "            else:\n",
    "                pass \n",
    "        else:\n",
    "            count1 = count1 + d1[j]\n",
    "\n",
    "\n",
    "    return (count+count1)\n",
    "\n",
    "\n",
    "\n",
    "    \n",
    "\n",
    "if __name__ == '__main__':\n",
    "    fptr = open(os.environ['OUTPUT_PATH'], 'w')\n",
    "\n",
    "    s1 = input()\n",
    "\n",
    "    s2 = input()\n",
    "\n",
    "    result = makingAnagrams(s1, s2)\n",
    "\n",
    "    fptr.write(str(result) + '\\n')\n",
    "\n",
    "    fptr.close()\n"
   ]
  },
  {
   "cell_type": "code",
   "execution_count": 16,
   "metadata": {},
   "outputs": [
    {
     "name": "stdout",
     "output_type": "stream",
     "text": [
      "Counter({'f': 3, 'l': 3, 'a': 2, 'h': 2, 'd': 1, 'i': 1, 'w': 1, 's': 1})\n"
     ]
    },
    {
     "data": {
      "text/plain": [
       "19"
      ]
     },
     "execution_count": 16,
     "metadata": {},
     "output_type": "execute_result"
    }
   ],
   "source": [
    "#short one\n",
    "from collections import Counter\n",
    "s1 = \"djfladfhiawasdkjvalskufhafablsdkashlahdfa\"\n",
    "s2 = \"absdjkvuahdakejfnfauhdsaavasdlkj\"\n",
    "\n",
    "def ans(s1,s2):\n",
    "    c1 = Counter(s1)\n",
    "    c2 = Counter(s2)\n",
    "    print(c1-c2)\n",
    "    return sum((c1-c2).values())+sum((c2-c1).values())\n",
    "\n",
    "ans(s1,s2)"
   ]
  },
  {
   "cell_type": "markdown",
   "metadata": {},
   "source": [
    "## "
   ]
  },
  {
   "cell_type": "code",
   "execution_count": null,
   "metadata": {},
   "outputs": [],
   "source": []
  },
  {
   "cell_type": "code",
   "execution_count": null,
   "metadata": {},
   "outputs": [],
   "source": []
  },
  {
   "cell_type": "code",
   "execution_count": null,
   "metadata": {},
   "outputs": [],
   "source": []
  },
  {
   "cell_type": "code",
   "execution_count": null,
   "metadata": {},
   "outputs": [],
   "source": []
  }
 ],
 "metadata": {
  "kernelspec": {
   "display_name": "Python 3",
   "language": "python",
   "name": "python3"
  },
  "language_info": {
   "codemirror_mode": {
    "name": "ipython",
    "version": 3
   },
   "file_extension": ".py",
   "mimetype": "text/x-python",
   "name": "python",
   "nbconvert_exporter": "python",
   "pygments_lexer": "ipython3",
   "version": "3.6.6"
  }
 },
 "nbformat": 4,
 "nbformat_minor": 2
}
